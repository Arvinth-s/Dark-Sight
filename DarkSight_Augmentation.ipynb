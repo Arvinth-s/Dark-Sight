{
  "nbformat": 4,
  "nbformat_minor": 0,
  "metadata": {
    "colab": {
      "name": "DarkSight-Augmentation.ipynb",
      "provenance": [],
      "collapsed_sections": [],
      "authorship_tag": "ABX9TyO8R+kGViQSwEBemAGGIzuD",
      "include_colab_link": true
    },
    "kernelspec": {
      "name": "python3",
      "display_name": "Python 3"
    }
  },
  "cells": [
    {
      "cell_type": "markdown",
      "metadata": {
        "id": "view-in-github",
        "colab_type": "text"
      },
      "source": [
        "<a href=\"https://colab.research.google.com/github/Arvinth-s/Dark-Sight/blob/master/DarkSight_Augmentation.ipynb\" target=\"_parent\"><img src=\"https://colab.research.google.com/assets/colab-badge.svg\" alt=\"Open In Colab\"/></a>"
      ]
    },
    {
      "cell_type": "code",
      "metadata": {
        "id": "JYvpWCk35v06",
        "colab_type": "code",
        "colab": {}
      },
      "source": [
        "#OM NAMO NARAYANA"
      ],
      "execution_count": 1,
      "outputs": []
    },
    {
      "cell_type": "code",
      "metadata": {
        "id": "xJHXias06AVL",
        "colab_type": "code",
        "colab": {
          "base_uri": "https://localhost:8080/",
          "height": 50
        },
        "outputId": "2bf1ab59-3119-44dd-af9d-654317bcda43"
      },
      "source": [
        "from google.colab import drive\n",
        "import numpy as np\n",
        "import os\n",
        "drive.flush_and_unmount()\n",
        "drive.mount('/content/drive')\n",
        "dsdir='/content/drive/My Drive/Dataset/'\n",
        "f = open(dsdir+'logs.txt', 'w')\n",
        "f.write('successfully mounted drive\\n')"
      ],
      "execution_count": 2,
      "outputs": [
        {
          "output_type": "stream",
          "text": [
            "Mounted at /content/drive\n"
          ],
          "name": "stdout"
        },
        {
          "output_type": "execute_result",
          "data": {
            "text/plain": [
              "27"
            ]
          },
          "metadata": {
            "tags": []
          },
          "execution_count": 2
        }
      ]
    },
    {
      "cell_type": "code",
      "metadata": {
        "id": "avhSLv219Goh",
        "colab_type": "code",
        "colab": {
          "base_uri": "https://localhost:8080/",
          "height": 67
        },
        "outputId": "04a28f00-990c-46a5-a8f3-2e11f0635817"
      },
      "source": [
        "dataset_dir = '/content/drive/My Drive/Dataset/Dataset/'\n",
        "os.chdir(dsdir)\n",
        "!ls\n",
        "os.chdir(dataset_dir)\n",
        "f.write('Dataset exists\\n')"
      ],
      "execution_count": 3,
      "outputs": [
        {
          "output_type": "stream",
          "text": [
            "Dataset       logs.txt\t      myFile_raw_jpg.txt\n",
            "files_gen.py  myFile_jpg.txt  myFile_raw.txt\n"
          ],
          "name": "stdout"
        },
        {
          "output_type": "execute_result",
          "data": {
            "text/plain": [
              "15"
            ]
          },
          "metadata": {
            "tags": []
          },
          "execution_count": 3
        }
      ]
    },
    {
      "cell_type": "code",
      "metadata": {
        "id": "Sb5NTos9Eu0_",
        "colab_type": "code",
        "colab": {
          "base_uri": "https://localhost:8080/",
          "height": 33
        },
        "outputId": "de5bc5ff-4b4e-4a4e-91d4-4427a8255eb5"
      },
      "source": [
        "subdirs=[]\n",
        "f.write('Dataset extracted\\n')\n",
        "for path, sd, files in os.walk(dataset_dir):\n",
        "    if(sd != []):\n",
        "      subdirs.append(sd)\n",
        "subdirs=subdirs[0]\n",
        "A=[]\n",
        "for subdir in subdirs:\n",
        "  a = list(os.listdir(subdir))\n",
        "  a.sort()\n",
        "  if(len(a)==10):\n",
        "    a.append(subdir)\n",
        "    A.append(a)\n",
        "A = np.array(A)\n",
        "longExposure=[]\n",
        "shortExposure=[]\n",
        "temperature=[]\n",
        "longExposure = [dataset_dir + a[10] + \"/\" + a[4] for a in A]\n",
        "shortExposure =[dataset_dir + a[10] + \"/\" +a[5] for a in A]\n",
        "temperature = [dataset_dir + a[10] + \"/\" +a[6] for a in A]\n",
        "f.write('Dataset extracted\\n')"
      ],
      "execution_count": 4,
      "outputs": [
        {
          "output_type": "execute_result",
          "data": {
            "text/plain": [
              "18"
            ]
          },
          "metadata": {
            "tags": []
          },
          "execution_count": 4
        }
      ]
    },
    {
      "cell_type": "code",
      "metadata": {
        "id": "yIXdc31nDI_k",
        "colab_type": "code",
        "colab": {}
      },
      "source": [
        "# imports\n",
        "import torch\n",
        "import torchvision.transforms as transforms\n",
        "import glob\n",
        "import matplotlib.pyplot as plt\n",
        "import torchvision\n",
        "import time\n",
        "import albumentations as A\n",
        " \n",
        "from torch.utils.data import DataLoader, Dataset\n",
        "from PIL import Image"
      ],
      "execution_count": 5,
      "outputs": []
    },
    {
      "cell_type": "code",
      "metadata": {
        "id": "unK2-BaI9TeH",
        "colab_type": "code",
        "colab": {}
      },
      "source": [
        "def show_img(img):\n",
        "    plt.figure(figsize=(18,15))\n",
        "    # unnormalize\n",
        "    img = img / 2 + 0.5  \n",
        "    npimg = img.numpy()\n",
        "    npimg = np.clip(npimg, 0., 1.)\n",
        "    plt.imshow(np.transpose(npimg, (1, 2, 0)))\n",
        "    plt.show()\n",
        "    return np.transpose(npimg, (1, 2, 0))"
      ],
      "execution_count": 6,
      "outputs": []
    },
    {
      "cell_type": "markdown",
      "metadata": {
        "id": "cB0xP537JT1s",
        "colab_type": "text"
      },
      "source": [
        "[call](https://www.geeksforgeeks.org/__call__-in-python/)"
      ]
    },
    {
      "cell_type": "markdown",
      "metadata": {
        "id": "_cj64H_dJNUg",
        "colab_type": "text"
      },
      "source": [
        "[special function\n",
        "](https://discuss.pytorch.org/t/using-a-special-function-as-a-transform/42760)"
      ]
    },
    {
      "cell_type": "code",
      "metadata": {
        "id": "LWz6GDnLWdDV",
        "colab_type": "code",
        "colab": {}
      },
      "source": [
        "#parameters\n",
        "batch_size=16\n",
        "cropping_ratio=0.75\n",
        "width=100"
      ],
      "execution_count": 7,
      "outputs": []
    },
    {
      "cell_type": "code",
      "metadata": {
        "id": "vXv1z4U9HxLd",
        "colab_type": "code",
        "colab": {}
      },
      "source": [
        "class myTransforms():\n",
        "  class Resize():\n",
        "    def __init__(self, size, interpolation=Image.BILINEAR):\n",
        "      self.size=size\n",
        "      self.interpolation=interpolation\n",
        "    def __call__(self, img):\n",
        "      old_size = img.size\n",
        "\n",
        "      ratio = float(self.size)/max(old_size)\n",
        "      new_size = tuple([int(x * ratio) for x in old_size])\n",
        "\n",
        "      return (img.resize(new_size, resample=self.interpolation))\n",
        "  class CenterCrop():\n",
        "    def __init__(self, ratio, interpolation=Image.BILINEAR):\n",
        "      self.ratio=ratio\n",
        "      self.interpolation=interpolation\n",
        "    def __call__(self, img):\n",
        "      old_size=img.size\n",
        "      left = (1-self.ratio)*(old_size[0]/2)\n",
        "      right = (1+self.ratio)*(old_size[0]/2)\n",
        "      top = (1-self.ratio)*(old_size[1]/2)\n",
        "      bottom = (1+self.ratio)*(old_size[1]/2)\n",
        "      #LTRB\n",
        "      img=img.crop((left, top, right, bottom))\n",
        "      # f.write(str(old_size)+ 'is cropped to'+ str(img.size) + '\\n')\n",
        "      return img\n"
      ],
      "execution_count": 8,
      "outputs": []
    },
    {
      "cell_type": "code",
      "metadata": {
        "id": "neBol8e3E6I2",
        "colab_type": "code",
        "colab": {}
      },
      "source": [
        "# define pytorch transforms\n",
        "Transforms=[]\n",
        "Transforms.append(\n",
        "    transforms.Compose([\n",
        "     transforms.ToPILImage(),\n",
        "     transforms.RandomRotation(degrees=(-20, 20)),\n",
        "     transforms.Resize((300, 300)),\n",
        "     transforms.CenterCrop((280, 280)),\n",
        "     transforms.RandomCrop((80, 80)),\n",
        "     transforms.RandomHorizontalFlip(p=0.5),\n",
        "     transforms.ToTensor(),\n",
        "     #mean and std=0.5\n",
        "     transforms.Normalize((0.5, 0.5, 0.5), (0.5, 0.5, 0.5)),\n",
        "     ])\n",
        ")"
      ],
      "execution_count": 9,
      "outputs": []
    },
    {
      "cell_type": "code",
      "metadata": {
        "id": "1jt5cC1DJYGn",
        "colab_type": "code",
        "colab": {}
      },
      "source": [
        "# define pytorch transforms\n",
        "Transforms.append(\n",
        "    transforms.Compose([\n",
        "     transforms.ToPILImage(),\n",
        "     transforms.RandomRotation(degrees=(-20, 20)),\n",
        "     myTransforms.Resize(100),\n",
        "     transforms.RandomHorizontalFlip(p=0.5),\n",
        "     transforms.ToTensor(),\n",
        "     #mean and std=0.5\n",
        "     transforms.Normalize((0.5, 0.5, 0.5), (0.5, 0.5, 0.5)),\n",
        "     ])\n",
        ")"
      ],
      "execution_count": 10,
      "outputs": []
    },
    {
      "cell_type": "code",
      "metadata": {
        "id": "XAodY-KO8bG4",
        "colab_type": "code",
        "colab": {}
      },
      "source": [
        "# define pytorch transforms\n",
        "Transforms.append(\n",
        "    transforms.Compose([\n",
        "     transforms.ToPILImage(),\n",
        "     transforms.RandomRotation(degrees=(-15, 15)),\n",
        "     myTransforms.Resize(100),\n",
        "     myTransforms.CenterCrop(0.75),\n",
        "     transforms.RandomHorizontalFlip(p=0.5),\n",
        "     transforms.ToTensor(),\n",
        "     #mean and std=0.5\n",
        "     transforms.Normalize((0.5, 0.5, 0.5), (0.5, 0.5, 0.5)),\n",
        "     ])\n",
        ")"
      ],
      "execution_count": 11,
      "outputs": []
    },
    {
      "cell_type": "code",
      "metadata": {
        "id": "Gj76lir8TBg8",
        "colab_type": "code",
        "colab": {}
      },
      "source": [
        "# PyTorch image augmentation module\n",
        "image_list=[longExposure, shortExposure, temperature]\n",
        "class PyTorchImageDataset(Dataset):\n",
        "    def __init__(self, image_list, transforms=None):\n",
        "        self.image_list = image_list\n",
        "        self.transforms = transforms\n",
        "         \n",
        "    def __len__(self):\n",
        "        return (len(self.image_list))\n",
        "    \n",
        "    def __getitem__(self, i):\n",
        "        image = []\n",
        "        image = [plt.imread(self.image_list[j][i]) for j in range(3)]\n",
        "        print(image[0].shape, image[1].shape, image[2].shape)\n",
        "        # image = [plt.imread(img) for img in image_list[i]]\n",
        "        image = [Image.fromarray(img).convert('RGB')  for img in image]\n",
        "        image = [np.asarray(img).astype(np.uint8) for img in image]\n",
        "        if self.transforms is not None:\n",
        "            image = [self.transforms(np.asarray(img)) for img in image]\n",
        "        image = [img.numpy() for img in image]\n",
        "        # print(temp)\n",
        "        # print(image.numpy())\n",
        "        # return torch.tensor(np.asarray(image), dtype=torch.float)\n",
        "        # print(np.array(image).shape)\n",
        "        # print(image)\n",
        "        # print(len(image))\n",
        "        return [torch.tensor(img, dtype=torch.float) for img in image]\n",
        "        return torch.tensor(image, dtype=torch.float)"
      ],
      "execution_count": 44,
      "outputs": []
    },
    {
      "cell_type": "code",
      "metadata": {
        "id": "hrSnr7hHTtvD",
        "colab_type": "code",
        "colab": {}
      },
      "source": [
        "pytorch_dataset = PyTorchImageDataset(image_list=image_list, transforms=Transforms[1])\n",
        "#batch_size <= 3\n",
        "pytorch_dataloader1 = DataLoader(dataset=pytorch_dataset, batch_size=2, shuffle=True)\n"
      ],
      "execution_count": 45,
      "outputs": []
    },
    {
      "cell_type": "code",
      "metadata": {
        "id": "ep7xoXJGT5Ri",
        "colab_type": "code",
        "colab": {
          "base_uri": "https://localhost:8080/",
          "height": 458
        },
        "outputId": "1890f8de-9c95-4e9f-ba9c-4d256b17a7d0"
      },
      "source": [
        "data = iter(pytorch_dataloader1)\n",
        "images1 = data.next()\n",
        "# images1=images1.numpy()\n",
        "# show images\n",
        "# images1 = np.array(images1)\n",
        "print(len(images1[0]))\n",
        "print(images1[0].numpy().shape)\n",
        "images1=show_img(torchvision.utils.make_grid(images1[0]))\n",
        "# images2=show_img(torchvision.utils.make_grid(images1[1]))\n",
        "# images3=show_img(torchvision.utils.make_grid(images1[2]))"
      ],
      "execution_count": 46,
      "outputs": [
        {
          "output_type": "stream",
          "text": [
            "(1984, 2976, 3) (1984, 2976, 3) (24, 32, 3)\n",
            "(1984, 2976, 3) (1984, 2976, 3) (24, 32, 3)\n",
            "2\n",
            "(2, 3, 66, 100)\n"
          ],
          "name": "stdout"
        },
        {
          "output_type": "display_data",
          "data": {
            "image/png": "[encoded data removed]",
            "text/plain": [
              "<Figure size 1296x1080 with 1 Axes>"
            ]
          },
          "metadata": {
            "tags": [],
            "needs_background": "light"
          }
        }
      ]
    },
    {
      "cell_type": "code",
      "metadata": {
        "id": "wzkHRMbXT7Q_",
        "colab_type": "code",
        "colab": {}
      },
      "source": [
        "pytorch_dataset = PyTorchImageDataset(image_list=image_list, transforms=Transforms[1])\n",
        "pytorch_dataloader2 = DataLoader(dataset=pytorch_dataset, batch_size=16, shuffle=True)\n",
        "data = iter(pytorch_dataloader2)\n",
        "images2 = data.next()\n",
        "imges2 = show_img(torchvision.utils.make_grid(images2))"
      ],
      "execution_count": null,
      "outputs": []
    },
    {
      "cell_type": "code",
      "metadata": {
        "id": "pdDvbCW3D1Vm",
        "colab_type": "code",
        "colab": {}
      },
      "source": [
        "pytorch_dataset = PyTorchImageDataset(image_list=image_list, transforms=Transforms[2])\n",
        "pytorch_dataloader3 = DataLoader(dataset=pytorch_dataset, batch_size=16, shuffle=True)\n",
        "data = iter(pytorch_dataloader3)\n",
        "images3 = data.next()\n",
        "images3=show_img(torchvision.utils.make_grid(images3))"
      ],
      "execution_count": null,
      "outputs": []
    },
    {
      "cell_type": "code",
      "metadata": {
        "id": "GwJvDO2hNV02",
        "colab_type": "code",
        "colab": {}
      },
      "source": [
        "f.close()"
      ],
      "execution_count": null,
      "outputs": []
    },
    {
      "cell_type": "code",
      "metadata": {
        "id": "Yo7y39w6ql0E",
        "colab_type": "code",
        "colab": {}
      },
      "source": [
        ""
      ],
      "execution_count": null,
      "outputs": []
    },
    {
      "cell_type": "markdown",
      "metadata": {
        "id": "eQplTRaOqtsq",
        "colab_type": "text"
      },
      "source": [
        "[reference](https://debuggercafe.com/image-augmentation-using-pytorch-and-albumentations/)"
      ]
    }
  ]
}