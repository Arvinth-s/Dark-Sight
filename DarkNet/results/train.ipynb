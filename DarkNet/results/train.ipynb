{
 "cells": [
  {
   "cell_type": "code",
   "execution_count": 12,
   "metadata": {
    "pycharm": {
     "is_executing": false
    }
   },
   "outputs": [],
   "source": [
    "import gc\n",
    "\n",
    "import matplotlib.pyplot as plt\n",
    "import numpy as np\n",
    "import torch.nn as nn\n",
    "from torch.optim import Adam\n",
    "from torch.utils.data import DataLoader\n",
    "\n",
    "from data.loader import Precious\n",
    "from data.transforms import simple_transform\n",
    "from models.vanilla_unet import VanillaUNet"
   ]
  },
  {
   "cell_type": "code",
   "execution_count": 2,
   "metadata": {
    "pycharm": {
     "is_executing": false,
     "name": "#%%\n"
    }
   },
   "outputs": [],
   "source": [
    "net = VanillaUNet().cuda()\n",
    "trainset = Precious(simple_transform)\n",
    "trainloader = DataLoader(trainset, batch_size=1, shuffle=True)\n",
    "dataset = trainset.__getitem__(140)"
   ]
  },
  {
   "cell_type": "code",
   "execution_count": 3,
   "metadata": {
    "pycharm": {
     "is_executing": false
    }
   },
   "outputs": [],
   "source": [
    "short = dataset['short_img'].unsqueeze(0)\n",
    "temps = dataset['temps_img'].unsqueeze(0).unsqueeze(0)\n",
    "long = dataset['long_img'].unsqueeze(0)"
   ]
  },
  {
   "cell_type": "code",
   "execution_count": 4,
   "outputs": [],
   "source": [
    "criterion = nn.L1Loss().cuda()\n",
    "optim = Adam(net.parameters(), 1e-4)\n",
    "epochs = 1000"
   ],
   "metadata": {
    "collapsed": false,
    "pycharm": {
     "name": "#%%\n",
     "is_executing": false
    }
   }
  },
  {
   "cell_type": "code",
   "execution_count": 5,
   "metadata": {
    "pycharm": {
     "is_executing": false
    }
   },
   "outputs": [],
   "source": [
    "out = net(short, temps)"
   ]
  },
  {
   "cell_type": "code",
   "execution_count": 6,
   "metadata": {
    "pycharm": {
     "is_executing": false
    }
   },
   "outputs": [
    {
     "name": "stderr",
     "text": [
      "Clipping input data to the valid range for imshow with RGB data ([0..1] for floats or [0..255] for integers).\n"
     ],
     "output_type": "stream"
    },
    {
     "data": {
      "text/plain": "<matplotlib.image.AxesImage at 0x7f8e15fe35c0>"
     },
     "metadata": {},
     "output_type": "execute_result",
     "execution_count": 6
    },
    {
     "data": {
      "text/plain": "<Figure size 432x288 with 1 Axes>",
      "image/png": "[encoded data removed]"
     },
     "metadata": {
      "needs_background": "light"
     },
     "output_type": "display_data"
    }
   ],
   "source": [
    "plt.imshow(out.squeeze(0).cpu().detach().numpy().transpose(1, 2, 0) * 255)"
   ]
  },
  {
   "cell_type": "code",
   "execution_count": 7,
   "outputs": [
    {
     "name": "stdout",
     "text": [
      "Epoch : 0 Loss : 0.29490208625793457\n",
      "Epoch : 1 Loss : 0.29274603724479675\n",
      "Epoch : 2 Loss : 0.2906298339366913\n",
      "Epoch : 3 Loss : 0.2885556221008301\n",
      "Epoch : 4 Loss : 0.28648680448532104\n",
      "Epoch : 5 Loss : 0.28446468710899353\n",
      "Epoch : 6 Loss : 0.2824469208717346\n",
      "Epoch : 7 Loss : 0.28043076395988464\n",
      "Epoch : 8 Loss : 0.27843213081359863\n",
      "Epoch : 9 Loss : 0.27639004588127136\n",
      "Epoch : 10 Loss : 0.2742816209793091\n",
      "Epoch : 11 Loss : 0.2720828652381897\n",
      "Epoch : 12 Loss : 0.2697750926017761\n",
      "Epoch : 13 Loss : 0.2673715353012085\n",
      "Epoch : 14 Loss : 0.2648802399635315\n",
      "Epoch : 15 Loss : 0.2622934877872467\n",
      "Epoch : 16 Loss : 0.25960052013397217\n",
      "Epoch : 17 Loss : 0.2567899227142334\n",
      "Epoch : 18 Loss : 0.2538599967956543\n",
      "Epoch : 19 Loss : 0.2507737874984741\n",
      "Epoch : 20 Loss : 0.2474726140499115\n",
      "Epoch : 21 Loss : 0.243866965174675\n",
      "Epoch : 22 Loss : 0.2399100959300995\n",
      "Epoch : 23 Loss : 0.23557095229625702\n",
      "Epoch : 24 Loss : 0.23067793250083923\n",
      "Epoch : 25 Loss : 0.2250705063343048\n",
      "Epoch : 26 Loss : 0.21889559924602509\n",
      "Epoch : 27 Loss : 0.21297931671142578\n",
      "Epoch : 28 Loss : 0.21649417281150818\n",
      "Epoch : 29 Loss : 0.21600870788097382\n",
      "Epoch : 30 Loss : 0.21189603209495544\n",
      "Epoch : 31 Loss : 0.20956751704216003\n",
      "Epoch : 32 Loss : 0.20886002480983734\n",
      "Epoch : 33 Loss : 0.20876161754131317\n",
      "Epoch : 34 Loss : 0.2087944746017456\n",
      "Epoch : 35 Loss : 0.20877298712730408\n",
      "Epoch : 36 Loss : 0.20863452553749084\n",
      "Epoch : 37 Loss : 0.20838773250579834\n",
      "Epoch : 38 Loss : 0.20805512368679047\n",
      "Epoch : 39 Loss : 0.20766064524650574\n",
      "Epoch : 40 Loss : 0.20722906291484833\n",
      "Epoch : 41 Loss : 0.20678097009658813\n",
      "Epoch : 42 Loss : 0.2063342034816742\n",
      "Epoch : 43 Loss : 0.20589737594127655\n",
      "Epoch : 44 Loss : 0.20546740293502808\n",
      "Epoch : 45 Loss : 0.2050376832485199\n",
      "Epoch : 46 Loss : 0.20459626615047455\n",
      "Epoch : 47 Loss : 0.2041287124156952\n",
      "Epoch : 48 Loss : 0.20362171530723572\n",
      "Epoch : 49 Loss : 0.2030681073665619\n",
      "Epoch : 50 Loss : 0.20247618854045868\n",
      "Epoch : 51 Loss : 0.2018566131591797\n",
      "Epoch : 52 Loss : 0.2012268751859665\n",
      "Epoch : 53 Loss : 0.2005860060453415\n",
      "Epoch : 54 Loss : 0.1999267339706421\n",
      "Epoch : 55 Loss : 0.19924047589302063\n",
      "Epoch : 56 Loss : 0.19851696491241455\n",
      "Epoch : 57 Loss : 0.19773690402507782\n",
      "Epoch : 58 Loss : 0.1968878209590912\n",
      "Epoch : 59 Loss : 0.1959480494260788\n",
      "Epoch : 60 Loss : 0.19489799439907074\n",
      "Epoch : 61 Loss : 0.19372853636741638\n",
      "Epoch : 62 Loss : 0.19246044754981995\n",
      "Epoch : 63 Loss : 0.19123965501785278\n",
      "Epoch : 64 Loss : 0.19045977294445038\n",
      "Epoch : 65 Loss : 0.19028329849243164\n",
      "Epoch : 66 Loss : 0.19034652411937714\n",
      "Epoch : 67 Loss : 0.19018256664276123\n",
      "Epoch : 68 Loss : 0.18944475054740906\n",
      "Epoch : 69 Loss : 0.18840985000133514\n",
      "Epoch : 70 Loss : 0.18708424270153046\n",
      "Epoch : 71 Loss : 0.18570153415203094\n",
      "Epoch : 72 Loss : 0.18413573503494263\n",
      "Epoch : 73 Loss : 0.1824006289243698\n",
      "Epoch : 74 Loss : 0.18018275499343872\n",
      "Epoch : 75 Loss : 0.17735324800014496\n",
      "Epoch : 76 Loss : 0.17364054918289185\n",
      "Epoch : 77 Loss : 0.16859643161296844\n",
      "Epoch : 78 Loss : 0.1619700938463211\n",
      "Epoch : 79 Loss : 0.15897350013256073\n",
      "Epoch : 80 Loss : 0.18411312997341156\n",
      "Epoch : 81 Loss : 0.17528323829174042\n",
      "Epoch : 82 Loss : 0.19116763770580292\n",
      "Epoch : 83 Loss : 0.19261525571346283\n",
      "Epoch : 84 Loss : 0.19077980518341064\n",
      "Epoch : 85 Loss : 0.18624815344810486\n",
      "Epoch : 86 Loss : 0.1768275499343872\n",
      "Epoch : 87 Loss : 0.1641007512807846\n",
      "Epoch : 88 Loss : 0.16227196156978607\n",
      "Epoch : 89 Loss : 0.1708984375\n",
      "Epoch : 90 Loss : 0.15502823889255524\n",
      "Epoch : 91 Loss : 0.16074815392494202\n",
      "Epoch : 92 Loss : 0.16424691677093506\n",
      "Epoch : 93 Loss : 0.1633903533220291\n",
      "Epoch : 94 Loss : 0.15899595618247986\n",
      "Epoch : 95 Loss : 0.1555379182100296\n",
      "Epoch : 96 Loss : 0.160427525639534\n",
      "Epoch : 97 Loss : 0.15683633089065552\n",
      "Epoch : 98 Loss : 0.15283595025539398\n",
      "Epoch : 99 Loss : 0.1549355536699295\n",
      "Epoch : 100 Loss : 0.15398067235946655\n",
      "Epoch : 101 Loss : 0.15006862580776215\n",
      "Epoch : 102 Loss : 0.15151190757751465\n",
      "Epoch : 103 Loss : 0.15091924369335175\n",
      "Epoch : 104 Loss : 0.14756354689598083\n",
      "Epoch : 105 Loss : 0.14838442206382751\n",
      "Epoch : 106 Loss : 0.14704853296279907\n",
      "Epoch : 107 Loss : 0.14373189210891724\n",
      "Epoch : 108 Loss : 0.1442495882511139\n",
      "Epoch : 109 Loss : 0.14234855771064758\n",
      "Epoch : 110 Loss : 0.14072099328041077\n",
      "Epoch : 111 Loss : 0.1409766674041748\n",
      "Epoch : 112 Loss : 0.13853925466537476\n",
      "Epoch : 113 Loss : 0.137533038854599\n",
      "Epoch : 114 Loss : 0.1359911412000656\n",
      "Epoch : 115 Loss : 0.13357889652252197\n",
      "Epoch : 116 Loss : 0.13303296267986298\n",
      "Epoch : 117 Loss : 0.13059714436531067\n",
      "Epoch : 118 Loss : 0.12994122505187988\n",
      "Epoch : 119 Loss : 0.12777164578437805\n",
      "Epoch : 120 Loss : 0.1263052076101303\n",
      "Epoch : 121 Loss : 0.12482947111129761\n",
      "Epoch : 122 Loss : 0.12329958379268646\n",
      "Epoch : 123 Loss : 0.12201063334941864\n",
      "Epoch : 124 Loss : 0.12037426233291626\n",
      "Epoch : 125 Loss : 0.11922621726989746\n",
      "Epoch : 126 Loss : 0.1173594743013382\n",
      "Epoch : 127 Loss : 0.11560791730880737\n",
      "Epoch : 128 Loss : 0.11429333686828613\n",
      "Epoch : 129 Loss : 0.11250452697277069\n",
      "Epoch : 130 Loss : 0.11138264834880829\n",
      "Epoch : 131 Loss : 0.11023764312267303\n",
      "Epoch : 132 Loss : 0.10838103294372559\n",
      "Epoch : 133 Loss : 0.1069374680519104\n",
      "Epoch : 134 Loss : 0.10622410476207733\n",
      "Epoch : 135 Loss : 0.10530035942792892\n",
      "Epoch : 136 Loss : 0.10403849929571152\n",
      "Epoch : 137 Loss : 0.10176938772201538\n",
      "Epoch : 138 Loss : 0.0997169017791748\n",
      "Epoch : 139 Loss : 0.09860289096832275\n",
      "Epoch : 140 Loss : 0.09862043708562851\n",
      "Epoch : 141 Loss : 0.10169234126806259\n",
      "Epoch : 142 Loss : 0.10450606793165207\n",
      "Epoch : 143 Loss : 0.10741710662841797\n",
      "Epoch : 144 Loss : 0.09701722115278244\n",
      "Epoch : 145 Loss : 0.1141800507903099\n",
      "Epoch : 146 Loss : 0.10566917061805725\n",
      "Epoch : 147 Loss : 0.11133581399917603\n",
      "Epoch : 148 Loss : 0.09047748893499374\n",
      "Epoch : 149 Loss : 0.11619514226913452\n",
      "Epoch : 150 Loss : 0.09511440992355347\n",
      "Epoch : 151 Loss : 0.1048901304602623\n",
      "Epoch : 152 Loss : 0.09074681252241135\n",
      "Epoch : 153 Loss : 0.10147249698638916\n",
      "Epoch : 154 Loss : 0.0882323682308197\n",
      "Epoch : 155 Loss : 0.09813930094242096\n",
      "Epoch : 156 Loss : 0.09379342198371887\n",
      "Epoch : 157 Loss : 0.09148526191711426\n",
      "Epoch : 158 Loss : 0.08916261047124863\n",
      "Epoch : 159 Loss : 0.08813589066267014\n",
      "Epoch : 160 Loss : 0.08705493062734604\n",
      "Epoch : 161 Loss : 0.08680184930562973\n",
      "Epoch : 162 Loss : 0.08458667993545532\n",
      "Epoch : 163 Loss : 0.08859618008136749\n",
      "Epoch : 164 Loss : 0.08502589911222458\n",
      "Epoch : 165 Loss : 0.08840374648571014\n",
      "Epoch : 166 Loss : 0.08240416646003723\n",
      "Epoch : 167 Loss : 0.08592545986175537\n",
      "Epoch : 168 Loss : 0.07838474214076996\n",
      "Epoch : 169 Loss : 0.08678516745567322\n",
      "Epoch : 170 Loss : 0.08129246532917023\n",
      "Epoch : 171 Loss : 0.07970579713582993\n",
      "Epoch : 172 Loss : 0.08341866731643677\n",
      "Epoch : 173 Loss : 0.07933198660612106\n",
      "Epoch : 174 Loss : 0.08174341171979904\n",
      "Epoch : 175 Loss : 0.07566431909799576\n",
      "Epoch : 176 Loss : 0.08347084373235703\n",
      "Epoch : 177 Loss : 0.08361481875181198\n",
      "Epoch : 178 Loss : 0.08000808209180832\n",
      "Epoch : 179 Loss : 0.08012860268354416\n",
      "Epoch : 180 Loss : 0.07399329543113708\n",
      "Epoch : 181 Loss : 0.07619774341583252\n",
      "Epoch : 182 Loss : 0.07502001523971558\n",
      "Epoch : 183 Loss : 0.07301568984985352\n",
      "Epoch : 184 Loss : 0.07431559264659882\n",
      "Epoch : 185 Loss : 0.07431086152791977\n",
      "Epoch : 186 Loss : 0.07121860235929489\n",
      "Epoch : 187 Loss : 0.07062089443206787\n",
      "Epoch : 188 Loss : 0.06896112114191055\n",
      "Epoch : 189 Loss : 0.07313252985477448\n",
      "Epoch : 190 Loss : 0.07258890569210052\n",
      "Epoch : 191 Loss : 0.08322645723819733\n",
      "Epoch : 192 Loss : 0.07771652936935425\n",
      "Epoch : 193 Loss : 0.08245260268449783\n",
      "Epoch : 194 Loss : 0.09122341871261597\n",
      "Epoch : 195 Loss : 0.09712859243154526\n",
      "Epoch : 196 Loss : 0.0799354761838913\n",
      "Epoch : 197 Loss : 0.08704297244548798\n",
      "Epoch : 198 Loss : 0.08038773387670517\n",
      "Epoch : 199 Loss : 0.07806222140789032\n",
      "Epoch : 200 Loss : 0.08537255227565765\n",
      "Epoch : 201 Loss : 0.0721743181347847\n",
      "Epoch : 202 Loss : 0.08511233329772949\n",
      "Epoch : 203 Loss : 0.07126790285110474\n",
      "Epoch : 204 Loss : 0.077735535800457\n",
      "Epoch : 205 Loss : 0.07905827462673187\n",
      "Epoch : 206 Loss : 0.06846126914024353\n",
      "Epoch : 207 Loss : 0.08044049143791199\n",
      "Epoch : 208 Loss : 0.06726183742284775\n",
      "Epoch : 209 Loss : 0.07318072021007538\n",
      "Epoch : 210 Loss : 0.0712851732969284\n",
      "Epoch : 211 Loss : 0.06802834570407867\n",
      "Epoch : 212 Loss : 0.07011865079402924\n",
      "Epoch : 213 Loss : 0.06842336803674698\n",
      "Epoch : 214 Loss : 0.06801237910985947\n",
      "Epoch : 215 Loss : 0.06662638485431671\n",
      "Epoch : 216 Loss : 0.06757660210132599\n",
      "Epoch : 217 Loss : 0.06377150863409042\n",
      "Epoch : 218 Loss : 0.06522616744041443\n",
      "Epoch : 219 Loss : 0.06454929709434509\n",
      "Epoch : 220 Loss : 0.06442846357822418\n",
      "Epoch : 221 Loss : 0.06251022964715958\n",
      "Epoch : 222 Loss : 0.06619807332754135\n",
      "Epoch : 223 Loss : 0.07031145691871643\n",
      "Epoch : 224 Loss : 0.0654851496219635\n",
      "Epoch : 225 Loss : 0.07542844116687775\n",
      "Epoch : 226 Loss : 0.06764505803585052\n",
      "Epoch : 227 Loss : 0.07252855598926544\n",
      "Epoch : 228 Loss : 0.06354033946990967\n",
      "Epoch : 229 Loss : 0.0777946412563324\n",
      "Epoch : 230 Loss : 0.06625211238861084\n",
      "Epoch : 231 Loss : 0.07330597192049026\n",
      "Epoch : 232 Loss : 0.0699467658996582\n",
      "Epoch : 233 Loss : 0.06677471846342087\n",
      "Epoch : 234 Loss : 0.0674704983830452\n",
      "Epoch : 235 Loss : 0.06860094517469406\n",
      "Epoch : 236 Loss : 0.06794126331806183\n",
      "Epoch : 237 Loss : 0.06211044639348984\n",
      "Epoch : 238 Loss : 0.06575855612754822\n",
      "Epoch : 239 Loss : 0.0626358762383461\n",
      "Epoch : 240 Loss : 0.06308712065219879\n",
      "Epoch : 241 Loss : 0.06284469366073608\n",
      "Epoch : 242 Loss : 0.062486838549375534\n",
      "Epoch : 243 Loss : 0.062322597950696945\n",
      "Epoch : 244 Loss : 0.06222409009933472\n",
      "Epoch : 245 Loss : 0.060873426496982574\n",
      "Epoch : 246 Loss : 0.05901818722486496\n",
      "Epoch : 247 Loss : 0.06030771881341934\n",
      "Epoch : 248 Loss : 0.05914691090583801\n",
      "Epoch : 249 Loss : 0.05900660157203674\n",
      "Epoch : 250 Loss : 0.05988672375679016\n",
      "Epoch : 251 Loss : 0.05724436044692993\n",
      "Epoch : 252 Loss : 0.05969235301017761\n",
      "Epoch : 253 Loss : 0.05734159052371979\n",
      "Epoch : 254 Loss : 0.0579148530960083\n",
      "Epoch : 255 Loss : 0.057100892066955566\n",
      "Epoch : 256 Loss : 0.057541828602552414\n",
      "Epoch : 257 Loss : 0.05588529631495476\n",
      "Epoch : 258 Loss : 0.056857556104660034\n",
      "Epoch : 259 Loss : 0.05684002861380577\n",
      "Epoch : 260 Loss : 0.05746588110923767\n",
      "Epoch : 261 Loss : 0.05630853772163391\n",
      "Epoch : 262 Loss : 0.05619453638792038\n",
      "Epoch : 263 Loss : 0.05584311485290527\n",
      "Epoch : 264 Loss : 0.055529944598674774\n",
      "Epoch : 265 Loss : 0.055523090064525604\n",
      "Epoch : 266 Loss : 0.05486398935317993\n",
      "Epoch : 267 Loss : 0.056271061301231384\n",
      "Epoch : 268 Loss : 0.055231109261512756\n",
      "Epoch : 269 Loss : 0.0568888895213604\n",
      "Epoch : 270 Loss : 0.05411737412214279\n",
      "Epoch : 271 Loss : 0.054028868675231934\n",
      "Epoch : 272 Loss : 0.05284462124109268\n",
      "Epoch : 273 Loss : 0.05533593147993088\n",
      "Epoch : 274 Loss : 0.05878899246454239\n",
      "Epoch : 275 Loss : 0.05370339751243591\n",
      "Epoch : 276 Loss : 0.05593019723892212\n",
      "Epoch : 277 Loss : 0.06588435918092728\n",
      "Epoch : 278 Loss : 0.0597849041223526\n",
      "Epoch : 279 Loss : 0.07367337495088577\n",
      "Epoch : 280 Loss : 0.06878679990768433\n",
      "Epoch : 281 Loss : 0.07948891073465347\n",
      "Epoch : 282 Loss : 0.07582445442676544\n",
      "Epoch : 283 Loss : 0.06457376480102539\n",
      "Epoch : 284 Loss : 0.060287438333034515\n",
      "Epoch : 285 Loss : 0.07815041393041611\n",
      "Epoch : 286 Loss : 0.07047522068023682\n",
      "Epoch : 287 Loss : 0.07813475281000137\n",
      "Epoch : 288 Loss : 0.07018309086561203\n",
      "Epoch : 289 Loss : 0.07402800023555756\n",
      "Epoch : 290 Loss : 0.07578718662261963\n",
      "Epoch : 291 Loss : 0.06565923988819122\n",
      "Epoch : 292 Loss : 0.06284426897764206\n",
      "Epoch : 293 Loss : 0.06923102587461472\n",
      "Epoch : 294 Loss : 0.06913211196660995\n",
      "Epoch : 295 Loss : 0.06290911138057709\n",
      "Epoch : 296 Loss : 0.06236782297492027\n",
      "Epoch : 297 Loss : 0.06510087102651596\n",
      "Epoch : 298 Loss : 0.06383545696735382\n",
      "Epoch : 299 Loss : 0.05902254581451416\n",
      "Epoch : 300 Loss : 0.05906279385089874\n",
      "Epoch : 301 Loss : 0.06158187985420227\n",
      "Epoch : 302 Loss : 0.05917694419622421\n",
      "Epoch : 303 Loss : 0.05553331971168518\n",
      "Epoch : 304 Loss : 0.05639025568962097\n",
      "Epoch : 305 Loss : 0.05671842396259308\n",
      "Epoch : 306 Loss : 0.052815984934568405\n",
      "Epoch : 307 Loss : 0.05525553226470947\n",
      "Epoch : 308 Loss : 0.054238419979810715\n",
      "Epoch : 309 Loss : 0.05188911408185959\n",
      "Epoch : 310 Loss : 0.054439134895801544\n",
      "Epoch : 311 Loss : 0.05190800875425339\n",
      "Epoch : 312 Loss : 0.05404500290751457\n",
      "Epoch : 313 Loss : 0.05277259647846222\n",
      "Epoch : 314 Loss : 0.05294429510831833\n",
      "Epoch : 315 Loss : 0.05359408259391785\n",
      "Epoch : 316 Loss : 0.05144098028540611\n",
      "Epoch : 317 Loss : 0.05557394027709961\n",
      "Epoch : 318 Loss : 0.05353423207998276\n",
      "Epoch : 319 Loss : 0.05287870019674301\n",
      "Epoch : 320 Loss : 0.05387509614229202\n",
      "Epoch : 321 Loss : 0.05405424162745476\n",
      "Epoch : 322 Loss : 0.052927762269973755\n",
      "Epoch : 323 Loss : 0.054065581411123276\n",
      "Epoch : 324 Loss : 0.05194409191608429\n",
      "Epoch : 325 Loss : 0.05134271830320358\n",
      "Epoch : 326 Loss : 0.05358439311385155\n",
      "Epoch : 327 Loss : 0.0509798526763916\n",
      "Epoch : 328 Loss : 0.051043566316366196\n",
      "Epoch : 329 Loss : 0.05085592716932297\n",
      "Epoch : 330 Loss : 0.05109395086765289\n",
      "Epoch : 331 Loss : 0.04971397668123245\n",
      "Epoch : 332 Loss : 0.05131548270583153\n",
      "Epoch : 333 Loss : 0.049608707427978516\n",
      "Epoch : 334 Loss : 0.050939373672008514\n",
      "Epoch : 335 Loss : 0.04957541078329086\n",
      "Epoch : 336 Loss : 0.04980536922812462\n",
      "Epoch : 337 Loss : 0.05054593086242676\n",
      "Epoch : 338 Loss : 0.048456065356731415\n",
      "Epoch : 339 Loss : 0.05157418176531792\n",
      "Epoch : 340 Loss : 0.050647735595703125\n",
      "Epoch : 341 Loss : 0.049141936004161835\n",
      "Epoch : 342 Loss : 0.05154016613960266\n",
      "Epoch : 343 Loss : 0.04806896671652794\n",
      "Epoch : 344 Loss : 0.04889175295829773\n",
      "Epoch : 345 Loss : 0.04932686686515808\n",
      "Epoch : 346 Loss : 0.04752233624458313\n",
      "Epoch : 347 Loss : 0.04906428977847099\n",
      "Epoch : 348 Loss : 0.048061393201351166\n",
      "Epoch : 349 Loss : 0.0470806360244751\n",
      "Epoch : 350 Loss : 0.04796917736530304\n",
      "Epoch : 351 Loss : 0.047443293035030365\n",
      "Epoch : 352 Loss : 0.04683191329240799\n",
      "Epoch : 353 Loss : 0.046833865344524384\n",
      "Epoch : 354 Loss : 0.0471029095351696\n",
      "Epoch : 355 Loss : 0.04649662226438522\n",
      "Epoch : 356 Loss : 0.04636659473180771\n",
      "Epoch : 357 Loss : 0.04663334786891937\n",
      "Epoch : 358 Loss : 0.04664834588766098\n",
      "Epoch : 359 Loss : 0.046132735908031464\n",
      "Epoch : 360 Loss : 0.045894231647253036\n",
      "Epoch : 361 Loss : 0.04569576308131218\n",
      "Epoch : 362 Loss : 0.04564216732978821\n",
      "Epoch : 363 Loss : 0.045631639659404755\n",
      "Epoch : 364 Loss : 0.045638054609298706\n",
      "Epoch : 365 Loss : 0.04576269909739494\n",
      "Epoch : 366 Loss : 0.04570677876472473\n",
      "Epoch : 367 Loss : 0.04542422294616699\n",
      "Epoch : 368 Loss : 0.04510607570409775\n",
      "Epoch : 369 Loss : 0.04488694667816162\n",
      "Epoch : 370 Loss : 0.04478829354047775\n",
      "Epoch : 371 Loss : 0.04488325119018555\n",
      "Epoch : 372 Loss : 0.04519413039088249\n",
      "Epoch : 373 Loss : 0.04579063877463341\n",
      "Epoch : 374 Loss : 0.04619612544775009\n",
      "Epoch : 375 Loss : 0.0474211685359478\n",
      "Epoch : 376 Loss : 0.0458497516810894\n",
      "Epoch : 377 Loss : 0.04513547942042351\n",
      "Epoch : 378 Loss : 0.04438617825508118\n",
      "Epoch : 379 Loss : 0.0442793183028698\n",
      "Epoch : 380 Loss : 0.04433893412351608\n",
      "Epoch : 381 Loss : 0.04486023634672165\n",
      "Epoch : 382 Loss : 0.04530709236860275\n",
      "Epoch : 383 Loss : 0.04676268622279167\n",
      "Epoch : 384 Loss : 0.04521046206355095\n",
      "Epoch : 385 Loss : 0.04462370276451111\n",
      "Epoch : 386 Loss : 0.04385073110461235\n",
      "Epoch : 387 Loss : 0.04383322596549988\n",
      "Epoch : 388 Loss : 0.043995052576065063\n",
      "Epoch : 389 Loss : 0.04488251358270645\n",
      "Epoch : 390 Loss : 0.04499369114637375\n",
      "Epoch : 391 Loss : 0.046026092022657394\n",
      "Epoch : 392 Loss : 0.04434223100543022\n",
      "Epoch : 393 Loss : 0.043731704354286194\n",
      "Epoch : 394 Loss : 0.04324933513998985\n",
      "Epoch : 395 Loss : 0.043517064303159714\n",
      "Epoch : 396 Loss : 0.04394194483757019\n",
      "Epoch : 397 Loss : 0.04520578682422638\n",
      "Epoch : 398 Loss : 0.04433929920196533\n",
      "Epoch : 399 Loss : 0.044330090284347534\n",
      "Epoch : 400 Loss : 0.04336418956518173\n",
      "Epoch : 401 Loss : 0.04325803369283676\n",
      "Epoch : 402 Loss : 0.043089788407087326\n",
      "Epoch : 403 Loss : 0.043655283749103546\n",
      "Epoch : 404 Loss : 0.04370666667819023\n",
      "Epoch : 405 Loss : 0.04443180561065674\n",
      "Epoch : 406 Loss : 0.04334673285484314\n",
      "Epoch : 407 Loss : 0.0431300513446331\n",
      "Epoch : 408 Loss : 0.04267897456884384\n",
      "Epoch : 409 Loss : 0.04292567819356918\n",
      "Epoch : 410 Loss : 0.04297570511698723\n",
      "Epoch : 411 Loss : 0.04379000514745712\n",
      "Epoch : 412 Loss : 0.043269526213407516\n",
      "Epoch : 413 Loss : 0.04346291720867157\n",
      "Epoch : 414 Loss : 0.04257049784064293\n",
      "Epoch : 415 Loss : 0.04249855875968933\n",
      "Epoch : 416 Loss : 0.042368657886981964\n",
      "Epoch : 417 Loss : 0.04292520135641098\n",
      "Epoch : 418 Loss : 0.04280358552932739\n",
      "Epoch : 419 Loss : 0.04342130944132805\n"
     ],
     "output_type": "stream"
    },
    {
     "traceback": [
      "\u001b[0;31m---------------------------------------------------------------------------\u001b[0m",
      "\u001b[0;31mKeyboardInterrupt\u001b[0m                         Traceback (most recent call last)",
      "\u001b[0;32m<ipython-input-7-0d145ccdfae5>\u001b[0m in \u001b[0;36m<module>\u001b[0;34m\u001b[0m\n\u001b[1;32m      6\u001b[0m     \u001b[0mloss\u001b[0m\u001b[0;34m.\u001b[0m\u001b[0mbackward\u001b[0m\u001b[0;34m(\u001b[0m\u001b[0;34m)\u001b[0m\u001b[0;34m\u001b[0m\u001b[0;34m\u001b[0m\u001b[0m\n\u001b[1;32m      7\u001b[0m     \u001b[0moptim\u001b[0m\u001b[0;34m.\u001b[0m\u001b[0mstep\u001b[0m\u001b[0;34m(\u001b[0m\u001b[0;34m)\u001b[0m\u001b[0;34m\u001b[0m\u001b[0;34m\u001b[0m\u001b[0m\n\u001b[0;32m----> 8\u001b[0;31m     \u001b[0mprint\u001b[0m\u001b[0;34m(\u001b[0m\u001b[0;34mf\"Epoch : {epoch} Loss : {loss.item()}\"\u001b[0m\u001b[0;34m)\u001b[0m\u001b[0;34m\u001b[0m\u001b[0;34m\u001b[0m\u001b[0m\n\u001b[0m\u001b[1;32m      9\u001b[0m \u001b[0;34m\u001b[0m\u001b[0m\n",
      "\u001b[0;31mKeyboardInterrupt\u001b[0m: "
     ],
     "ename": "KeyboardInterrupt",
     "evalue": "",
     "output_type": "error"
    }
   ],
   "source": [
    "for epoch in range(epochs):\n",
    "    out = net(short, temps)\n",
    "    loss = criterion(out, long)\n",
    "    gc.collect()\n",
    "    optim.zero_grad()\n",
    "    loss.backward()\n",
    "    optim.step()\n",
    "    print(f\"Epoch : {epoch} Loss : {loss.item()}\")"
   ],
   "metadata": {
    "collapsed": false,
    "pycharm": {
     "name": "#%%\n",
     "is_executing": false
    }
   }
  },
  {
   "cell_type": "code",
   "execution_count": 8,
   "outputs": [],
   "source": [
    "out = net(short, temps)"
   ],
   "metadata": {
    "collapsed": false,
    "pycharm": {
     "name": "#%%\n",
     "is_executing": false
    }
   }
  },
  {
   "cell_type": "code",
   "execution_count": 14,
   "outputs": [],
   "source": [
    "plt.imsave('shit.jpg', np.clip(out.squeeze(0).cpu().detach().numpy().transpose(1, 2, 0), 0, 1))"
   ],
   "metadata": {
    "collapsed": false,
    "pycharm": {
     "name": "#%%\n",
     "is_executing": false
    }
   }
  },
  {
   "cell_type": "code",
   "execution_count": 44,
   "outputs": [
    {
     "data": {
      "text/plain": "<matplotlib.image.AxesImage at 0x7f8ddb4ab748>"
     },
     "metadata": {},
     "output_type": "execute_result",
     "execution_count": 44
    },
    {
     "data": {
      "text/plain": "<Figure size 432x288 with 1 Axes>",
      "image/png": "[encoded data removed]"
     },
     "metadata": {
      "needs_background": "light"
     },
     "output_type": "display_data"
    }
   ],
   "source": [
    "dataset = trainset.__getitem__(np.random.randint(0, 147))\n",
    "plt.imshow(dataset['long_img'].cpu().numpy().transpose((1, 2, 0)))"
   ],
   "metadata": {
    "collapsed": false,
    "pycharm": {
     "name": "#%%\n",
     "is_executing": false
    }
   }
  },
  {
   "cell_type": "code",
   "execution_count": 45,
   "outputs": [],
   "source": [
    "short = dataset['short_img'].unsqueeze(0)\n",
    "temps = dataset['temps_img'].unsqueeze(0).unsqueeze(0)\n",
    "long = dataset['long_img'].unsqueeze(0)"
   ],
   "metadata": {
    "collapsed": false,
    "pycharm": {
     "name": "#%%\n",
     "is_executing": false
    }
   }
  },
  {
   "cell_type": "code",
   "execution_count": 46,
   "outputs": [],
   "source": [
    "out = net(short, temps)"
   ],
   "metadata": {
    "collapsed": false,
    "pycharm": {
     "name": "#%%\n",
     "is_executing": false
    }
   }
  },
  {
   "cell_type": "code",
   "execution_count": 47,
   "outputs": [],
   "source": [
    "plt.imsave('enhanced.jpg', np.clip(out.squeeze(0).cpu().detach().numpy().transpose(1, 2, 0), 0, 1))"
   ],
   "metadata": {
    "collapsed": false,
    "pycharm": {
     "name": "#%%\n",
     "is_executing": false
    }
   }
  },
  {
   "cell_type": "code",
   "execution_count": null,
   "outputs": [],
   "source": [],
   "metadata": {
    "collapsed": false,
    "pycharm": {
     "name": "#%%\n"
    }
   }
  }
 ],
 "metadata": {
  "kernelspec": {
   "display_name": "Python 3",
   "language": "python",
   "name": "python3"
  },
  "language_info": {
   "codemirror_mode": {
    "name": "ipython",
    "version": 3
   },
   "file_extension": ".py",
   "mimetype": "text/x-python",
   "name": "python",
   "nbconvert_exporter": "python",
   "pygments_lexer": "ipython3",
   "version": "3.6.10"
  },
  "pycharm": {
   "stem_cell": {
    "cell_type": "raw",
    "source": [],
    "metadata": {
     "collapsed": false
    }
   }
  }
 },
 "nbformat": 4,
 "nbformat_minor": 1
}